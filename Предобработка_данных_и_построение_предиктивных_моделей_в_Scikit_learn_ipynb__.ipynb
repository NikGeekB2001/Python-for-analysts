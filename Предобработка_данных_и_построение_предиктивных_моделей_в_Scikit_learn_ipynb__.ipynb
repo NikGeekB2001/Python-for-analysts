{
  "nbformat": 4,
  "nbformat_minor": 0,
  "metadata": {
    "colab": {
      "name": "Предобработка данных и построение предиктивных моделей в Scikit-learn.ipynb\"\"",
      "provenance": [],
      "collapsed_sections": []
    },
    "kernelspec": {
      "name": "python3",
      "display_name": "Python 3"
    }
  },
  "cells": [
    {
      "cell_type": "markdown",
      "source": [
        "## **Решаем задачу регрессии прогнозируем цены на недвижимость в Бостоне **"
      ],
      "metadata": {
        "id": "y8hYe_UnrXdA"
      }
    },
    {
      "cell_type": "markdown",
      "source": [
        "**1. Возьмем все признаки из датасета с урока**"
      ],
      "metadata": {
        "id": "TSXfq3BM_7H7"
      }
    },
    {
      "cell_type": "code",
      "source": [
        "# Памятка:\n",
        "# регресссия -(обьем продаж, цена)\n",
        "# регресссия - прогнозирование цены товара (цена изменяется в заданном интервале)\n",
        "# конверсия - кликнет на баннер пользователь или нет (событие -что то сделал или не сделал), дискретная величина\n",
        "# таргет (беглая шкала оценок от 1 до 10) вино; \n",
        "# классификация (набор дискретных значений);\n",
        "# регрессия (числовое ранжирование, усредненное значение баллов 4,6 округляем до 5)"
      ],
      "metadata": {
        "id": "ovxePnp4kyBz"
      },
      "execution_count": null,
      "outputs": []
    },
    {
      "cell_type": "code",
      "metadata": {
        "id": "pL_3oIzF3LPP"
      },
      "source": [
        "# импортуируем нужные нам библиоткеи\n",
        "import pandas as pd\n",
        "import numpy as np\n",
        "from sklearn.datasets import load_boston"
      ],
      "execution_count": null,
      "outputs": []
    },
    {
      "cell_type": "code",
      "metadata": {
        "colab": {
          "base_uri": "https://localhost:8080/",
          "height": 831
        },
        "id": "U4t5elJC23SF",
        "outputId": "728ccb98-4ad1-4e99-da0a-45457082bdea"
      },
      "source": [
        "# загружаем данные\n",
        "# загружаем датасет из sklearn load_boston\n",
        "\n",
        "import pandas as pd\n",
        "from sklearn.datasets import load_boston\n",
        "\n",
        "boston_data = load_boston()\n",
        "\n",
        "X = pd.DataFrame(boston_data.data, columns=boston_data.feature_names)  # переводим в ДатаФрейм\n",
        "y = boston_data.target\n",
        "\n",
        "X.head()"
      ],
      "execution_count": null,
      "outputs": [
        {
          "output_type": "stream",
          "name": "stderr",
          "text": [
            "/usr/local/lib/python3.7/dist-packages/sklearn/utils/deprecation.py:87: FutureWarning: Function load_boston is deprecated; `load_boston` is deprecated in 1.0 and will be removed in 1.2.\n",
            "\n",
            "    The Boston housing prices dataset has an ethical problem. You can refer to\n",
            "    the documentation of this function for further details.\n",
            "\n",
            "    The scikit-learn maintainers therefore strongly discourage the use of this\n",
            "    dataset unless the purpose of the code is to study and educate about\n",
            "    ethical issues in data science and machine learning.\n",
            "\n",
            "    In this special case, you can fetch the dataset from the original\n",
            "    source::\n",
            "\n",
            "        import pandas as pd\n",
            "        import numpy as np\n",
            "\n",
            "\n",
            "        data_url = \"http://lib.stat.cmu.edu/datasets/boston\"\n",
            "        raw_df = pd.read_csv(data_url, sep=\"\\s+\", skiprows=22, header=None)\n",
            "        data = np.hstack([raw_df.values[::2, :], raw_df.values[1::2, :2]])\n",
            "        target = raw_df.values[1::2, 2]\n",
            "\n",
            "    Alternative datasets include the California housing dataset (i.e.\n",
            "    :func:`~sklearn.datasets.fetch_california_housing`) and the Ames housing\n",
            "    dataset. You can load the datasets as follows::\n",
            "\n",
            "        from sklearn.datasets import fetch_california_housing\n",
            "        housing = fetch_california_housing()\n",
            "\n",
            "    for the California housing dataset and::\n",
            "\n",
            "        from sklearn.datasets import fetch_openml\n",
            "        housing = fetch_openml(name=\"house_prices\", as_frame=True)\n",
            "\n",
            "    for the Ames housing dataset.\n",
            "    \n",
            "  warnings.warn(msg, category=FutureWarning)\n"
          ]
        },
        {
          "output_type": "execute_result",
          "data": {
            "text/html": [
              "\n",
              "  <div id=\"df-8145f698-fa70-4c7e-8479-4dbb5e40504c\">\n",
              "    <div class=\"colab-df-container\">\n",
              "      <div>\n",
              "<style scoped>\n",
              "    .dataframe tbody tr th:only-of-type {\n",
              "        vertical-align: middle;\n",
              "    }\n",
              "\n",
              "    .dataframe tbody tr th {\n",
              "        vertical-align: top;\n",
              "    }\n",
              "\n",
              "    .dataframe thead th {\n",
              "        text-align: right;\n",
              "    }\n",
              "</style>\n",
              "<table border=\"1\" class=\"dataframe\">\n",
              "  <thead>\n",
              "    <tr style=\"text-align: right;\">\n",
              "      <th></th>\n",
              "      <th>CRIM</th>\n",
              "      <th>ZN</th>\n",
              "      <th>INDUS</th>\n",
              "      <th>CHAS</th>\n",
              "      <th>NOX</th>\n",
              "      <th>RM</th>\n",
              "      <th>AGE</th>\n",
              "      <th>DIS</th>\n",
              "      <th>RAD</th>\n",
              "      <th>TAX</th>\n",
              "      <th>PTRATIO</th>\n",
              "      <th>B</th>\n",
              "      <th>LSTAT</th>\n",
              "    </tr>\n",
              "  </thead>\n",
              "  <tbody>\n",
              "    <tr>\n",
              "      <th>0</th>\n",
              "      <td>0.00632</td>\n",
              "      <td>18.0</td>\n",
              "      <td>2.31</td>\n",
              "      <td>0.0</td>\n",
              "      <td>0.538</td>\n",
              "      <td>6.575</td>\n",
              "      <td>65.2</td>\n",
              "      <td>4.0900</td>\n",
              "      <td>1.0</td>\n",
              "      <td>296.0</td>\n",
              "      <td>15.3</td>\n",
              "      <td>396.90</td>\n",
              "      <td>4.98</td>\n",
              "    </tr>\n",
              "    <tr>\n",
              "      <th>1</th>\n",
              "      <td>0.02731</td>\n",
              "      <td>0.0</td>\n",
              "      <td>7.07</td>\n",
              "      <td>0.0</td>\n",
              "      <td>0.469</td>\n",
              "      <td>6.421</td>\n",
              "      <td>78.9</td>\n",
              "      <td>4.9671</td>\n",
              "      <td>2.0</td>\n",
              "      <td>242.0</td>\n",
              "      <td>17.8</td>\n",
              "      <td>396.90</td>\n",
              "      <td>9.14</td>\n",
              "    </tr>\n",
              "    <tr>\n",
              "      <th>2</th>\n",
              "      <td>0.02729</td>\n",
              "      <td>0.0</td>\n",
              "      <td>7.07</td>\n",
              "      <td>0.0</td>\n",
              "      <td>0.469</td>\n",
              "      <td>7.185</td>\n",
              "      <td>61.1</td>\n",
              "      <td>4.9671</td>\n",
              "      <td>2.0</td>\n",
              "      <td>242.0</td>\n",
              "      <td>17.8</td>\n",
              "      <td>392.83</td>\n",
              "      <td>4.03</td>\n",
              "    </tr>\n",
              "    <tr>\n",
              "      <th>3</th>\n",
              "      <td>0.03237</td>\n",
              "      <td>0.0</td>\n",
              "      <td>2.18</td>\n",
              "      <td>0.0</td>\n",
              "      <td>0.458</td>\n",
              "      <td>6.998</td>\n",
              "      <td>45.8</td>\n",
              "      <td>6.0622</td>\n",
              "      <td>3.0</td>\n",
              "      <td>222.0</td>\n",
              "      <td>18.7</td>\n",
              "      <td>394.63</td>\n",
              "      <td>2.94</td>\n",
              "    </tr>\n",
              "    <tr>\n",
              "      <th>4</th>\n",
              "      <td>0.06905</td>\n",
              "      <td>0.0</td>\n",
              "      <td>2.18</td>\n",
              "      <td>0.0</td>\n",
              "      <td>0.458</td>\n",
              "      <td>7.147</td>\n",
              "      <td>54.2</td>\n",
              "      <td>6.0622</td>\n",
              "      <td>3.0</td>\n",
              "      <td>222.0</td>\n",
              "      <td>18.7</td>\n",
              "      <td>396.90</td>\n",
              "      <td>5.33</td>\n",
              "    </tr>\n",
              "  </tbody>\n",
              "</table>\n",
              "</div>\n",
              "      <button class=\"colab-df-convert\" onclick=\"convertToInteractive('df-8145f698-fa70-4c7e-8479-4dbb5e40504c')\"\n",
              "              title=\"Convert this dataframe to an interactive table.\"\n",
              "              style=\"display:none;\">\n",
              "        \n",
              "  <svg xmlns=\"http://www.w3.org/2000/svg\" height=\"24px\"viewBox=\"0 0 24 24\"\n",
              "       width=\"24px\">\n",
              "    <path d=\"M0 0h24v24H0V0z\" fill=\"none\"/>\n",
              "    <path d=\"M18.56 5.44l.94 2.06.94-2.06 2.06-.94-2.06-.94-.94-2.06-.94 2.06-2.06.94zm-11 1L8.5 8.5l.94-2.06 2.06-.94-2.06-.94L8.5 2.5l-.94 2.06-2.06.94zm10 10l.94 2.06.94-2.06 2.06-.94-2.06-.94-.94-2.06-.94 2.06-2.06.94z\"/><path d=\"M17.41 7.96l-1.37-1.37c-.4-.4-.92-.59-1.43-.59-.52 0-1.04.2-1.43.59L10.3 9.45l-7.72 7.72c-.78.78-.78 2.05 0 2.83L4 21.41c.39.39.9.59 1.41.59.51 0 1.02-.2 1.41-.59l7.78-7.78 2.81-2.81c.8-.78.8-2.07 0-2.86zM5.41 20L4 18.59l7.72-7.72 1.47 1.35L5.41 20z\"/>\n",
              "  </svg>\n",
              "      </button>\n",
              "      \n",
              "  <style>\n",
              "    .colab-df-container {\n",
              "      display:flex;\n",
              "      flex-wrap:wrap;\n",
              "      gap: 12px;\n",
              "    }\n",
              "\n",
              "    .colab-df-convert {\n",
              "      background-color: #E8F0FE;\n",
              "      border: none;\n",
              "      border-radius: 50%;\n",
              "      cursor: pointer;\n",
              "      display: none;\n",
              "      fill: #1967D2;\n",
              "      height: 32px;\n",
              "      padding: 0 0 0 0;\n",
              "      width: 32px;\n",
              "    }\n",
              "\n",
              "    .colab-df-convert:hover {\n",
              "      background-color: #E2EBFA;\n",
              "      box-shadow: 0px 1px 2px rgba(60, 64, 67, 0.3), 0px 1px 3px 1px rgba(60, 64, 67, 0.15);\n",
              "      fill: #174EA6;\n",
              "    }\n",
              "\n",
              "    [theme=dark] .colab-df-convert {\n",
              "      background-color: #3B4455;\n",
              "      fill: #D2E3FC;\n",
              "    }\n",
              "\n",
              "    [theme=dark] .colab-df-convert:hover {\n",
              "      background-color: #434B5C;\n",
              "      box-shadow: 0px 1px 3px 1px rgba(0, 0, 0, 0.15);\n",
              "      filter: drop-shadow(0px 1px 2px rgba(0, 0, 0, 0.3));\n",
              "      fill: #FFFFFF;\n",
              "    }\n",
              "  </style>\n",
              "\n",
              "      <script>\n",
              "        const buttonEl =\n",
              "          document.querySelector('#df-8145f698-fa70-4c7e-8479-4dbb5e40504c button.colab-df-convert');\n",
              "        buttonEl.style.display =\n",
              "          google.colab.kernel.accessAllowed ? 'block' : 'none';\n",
              "\n",
              "        async function convertToInteractive(key) {\n",
              "          const element = document.querySelector('#df-8145f698-fa70-4c7e-8479-4dbb5e40504c');\n",
              "          const dataTable =\n",
              "            await google.colab.kernel.invokeFunction('convertToInteractive',\n",
              "                                                     [key], {});\n",
              "          if (!dataTable) return;\n",
              "\n",
              "          const docLinkHtml = 'Like what you see? Visit the ' +\n",
              "            '<a target=\"_blank\" href=https://colab.research.google.com/notebooks/data_table.ipynb>data table notebook</a>'\n",
              "            + ' to learn more about interactive tables.';\n",
              "          element.innerHTML = '';\n",
              "          dataTable['output_type'] = 'display_data';\n",
              "          await google.colab.output.renderOutput(dataTable, element);\n",
              "          const docLink = document.createElement('div');\n",
              "          docLink.innerHTML = docLinkHtml;\n",
              "          element.appendChild(docLink);\n",
              "        }\n",
              "      </script>\n",
              "    </div>\n",
              "  </div>\n",
              "  "
            ],
            "text/plain": [
              "      CRIM    ZN  INDUS  CHAS    NOX  ...  RAD    TAX  PTRATIO       B  LSTAT\n",
              "0  0.00632  18.0   2.31   0.0  0.538  ...  1.0  296.0     15.3  396.90   4.98\n",
              "1  0.02731   0.0   7.07   0.0  0.469  ...  2.0  242.0     17.8  396.90   9.14\n",
              "2  0.02729   0.0   7.07   0.0  0.469  ...  2.0  242.0     17.8  392.83   4.03\n",
              "3  0.03237   0.0   2.18   0.0  0.458  ...  3.0  222.0     18.7  394.63   2.94\n",
              "4  0.06905   0.0   2.18   0.0  0.458  ...  3.0  222.0     18.7  396.90   5.33\n",
              "\n",
              "[5 rows x 13 columns]"
            ]
          },
          "metadata": {},
          "execution_count": 3
        }
      ]
    },
    {
      "cell_type": "code",
      "metadata": {
        "id": "9Mwu6q-R3c79"
      },
      "source": [
        "# разделяем датасет на обучающую и тестовую выборки\n",
        "\n",
        "from sklearn.model_selection import train_test_split\n",
        "X_train, X_test, y_train, y_test = train_test_split(X, y, test_size = 0.20, shuffle = True, random_state=42)  \n",
        "# обучающая выборка train  и тестовая test  \n",
        "# shuffle  - перемешать данные True. Данные должны быть не связвны со временем(год и месяц перемешивать нельзя)\n",
        "#  random_state=42) зафиксировать результат"
      ],
      "execution_count": null,
      "outputs": []
    },
    {
      "cell_type": "markdown",
      "source": [
        "**3. Применяем модель Random Forest.**"
      ],
      "metadata": {
        "id": "_LOjgEyBnp4L"
      }
    },
    {
      "cell_type": "code",
      "source": [
        "# Рекурсия - он параллельно создает несколько деревьев (рондомизирует набор фич: первое дерево из трех фич состоящее, второе из пяти фич, третье из семи, четвертое из 10 фич состоящее)\n",
        "# метод используе не всю выборку, а использует отдельные блоки)\n",
        "# каждое дерево предсказывает свой уникальный результат, дплее происходит голосование, если классофикация, то приненяется часто встречаемый ответ; если регрессия то происходит усреднение (выход: одно значение)"
      ],
      "metadata": {
        "id": "Lx3_S8Bnn9un"
      },
      "execution_count": null,
      "outputs": []
    },
    {
      "cell_type": "code",
      "metadata": {
        "colab": {
          "base_uri": "https://localhost:8080/"
        },
        "id": "1OnY6I-m3Qc6",
        "outputId": "541f31b5-2ab5-4f0d-e0f6-84b7d5d1527d"
      },
      "source": [
        "#  импортируем модель Random Forest\n",
        "from sklearn.ensemble import RandomForestRegressor\n",
        "model = RandomForestRegressor(random_state = 42)  # обучаем нужную модель\n",
        "\n",
        "model.fit(X_train, y_train)                       # метод Fit запускает алгоритм"
      ],
      "execution_count": null,
      "outputs": [
        {
          "output_type": "execute_result",
          "data": {
            "text/plain": [
              "RandomForestRegressor(random_state=42)"
            ]
          },
          "metadata": {},
          "execution_count": 6
        }
      ]
    },
    {
      "cell_type": "code",
      "metadata": {
        "id": "SkAHzkP037td"
      },
      "source": [
        "# сделаем предсказания зависимой переменной y на тестовом и обучающем наборе\n",
        "y_train_pred = model.predict(X_train)   # делаем придикт по обучающей модели \n",
        "y_test_pred = model.predict(X_test)     # делаем придикт по тестовой модели "
      ],
      "execution_count": null,
      "outputs": []
    },
    {
      "cell_type": "markdown",
      "source": [
        "**3. Рассчитайте MAE, MSE, R2 на тренировочной и тестовой выборке.**\n"
      ],
      "metadata": {
        "id": "8zKIwhJs_IXG"
      }
    },
    {
      "cell_type": "markdown",
      "source": [
        "Основные метрики оценки качества регрессии\n",
        "\n",
        "Средняя абсолютная ошибка (MAE) - показывает среднюю абсолютную разность между целевыми значениями и прогнозом. Чем выше это значение, тем хуже модель.\n",
        "\n",
        "Средняя квадратическая ошибка (MSE) - показывает среднеквадратичную разность между целевыми значениями и прогнозом. Чем выше это значение, тем хуже модель.\n",
        "\n",
        "Коэффициент детерминации (R^2) - показывает насколько наше целевое значение зависит от выбранных признаков. Чем ближе к 1 тем лучше модель.\n"
      ],
      "metadata": {
        "id": "RaKDRkMSqWtl"
      }
    },
    {
      "cell_type": "code",
      "metadata": {
        "colab": {
          "base_uri": "https://localhost:8080/"
        },
        "id": "yy-5ivno4N_S",
        "outputId": "0a84be5a-a7ea-4f64-dee6-f88719c1b2c6"
      },
      "source": [
        "from sklearn.metrics import mean_absolute_error as mae, mean_squared_error as mse, r2_score as r2\n",
        "\n",
        "# выведем метрики  качества на тестовом и обучающем множестве\n",
        "print('Train MAE {}'.format(mae(y_train, y_train_pred)))   # на выходе факт обучающей модели тренировочной и предсказанной цены модели, сравниваем и  поодсчитываем выборку\n",
        "print('Test MAE {}'.format(mae(y_test, y_test_pred)))      # на выходе факт тестовой модели тестовой и предсказанной цены модели на недвижимость, сравниваем и  поодсчитываем выборку\n",
        "\n",
        "# Вывод: на тренинговой модели норм, а на тестовой в два раза увеличилась Средняя абсолютная ошибка (MAE)"
      ],
      "execution_count": null,
      "outputs": [
        {
          "output_type": "stream",
          "name": "stdout",
          "text": [
            "Train MAE 0.903477722772276\n",
            "Test MAE 2.0395392156862746\n"
          ]
        }
      ]
    },
    {
      "cell_type": "code",
      "metadata": {
        "colab": {
          "base_uri": "https://localhost:8080/"
        },
        "id": "vGHQBQpJ4SEq",
        "outputId": "8cbbb63e-4767-4757-e403-540fb2ad969b"
      },
      "source": [
        "print('Train MSE  {}'.format(mse(y_train, y_train_pred)))\n",
        "print('Test MSE  {}'.format(mse(y_test, y_test_pred)))\n",
        "\n",
        "# Вывод: при средней квадратической ошибки (MSE): на тренинговой модели два, а на тестовой восесь, произошло увеличилиение.."
      ],
      "execution_count": null,
      "outputs": [
        {
          "output_type": "stream",
          "name": "stdout",
          "text": [
            "Train MSE  1.9783925024752465\n",
            "Test MSE  7.901513892156864\n"
          ]
        }
      ]
    },
    {
      "cell_type": "code",
      "metadata": {
        "colab": {
          "base_uri": "https://localhost:8080/"
        },
        "id": "5Vctqxht4TWW",
        "outputId": "596dd634-eed6-4c2a-8650-9d2b609fa51c"
      },
      "source": [
        "print('Train R^2 {}'.format(r2(y_train, y_train_pred)))\n",
        "print('Test R^2 {}'.format(r2(y_test, y_test_pred)))\n",
        "\n",
        "# Вывод: Коэффициент детерминации (R^2)  для регрессии: на трейне 0.97 и на тесте 0.88, разница в 0.10, что достаточно высоко \n",
        "\n",
        "# Значит модель переобучаем!!!...."
      ],
      "execution_count": null,
      "outputs": [
        {
          "output_type": "stream",
          "name": "stdout",
          "text": [
            "Train R^2 0.9772267182453291\n",
            "Test R^2 0.8922527442109116\n"
          ]
        }
      ]
    },
    {
      "cell_type": "markdown",
      "source": [
        "**4. Посмотрите, как показатели качества соотносятся с коэффициентом корреляции этих признаков и целевого значения, а также между собой.**\n"
      ],
      "metadata": {
        "id": "Oz0fJzWW_Skl"
      }
    },
    {
      "cell_type": "code",
      "metadata": {
        "colab": {
          "base_uri": "https://localhost:8080/",
          "height": 513
        },
        "id": "9Y-VYN9R7B4V",
        "outputId": "8a5fdf4a-fc8f-4a88-9cc6-79271269387d"
      },
      "source": [
        "import matplotlib.pyplot as plt\n",
        "\n",
        "plt.figure(figsize=(10, 7))\n",
        "plt.scatter(y_test, y_test_pred)\n",
        "plt.plot([0, 50], [0, 50], '--k', color='red', linewidth=3)\n",
        "plt.xlabel('Факт_True price ($1000s)')\n",
        "plt.ylabel('Прогноз_Predicted price ($1000s)')\n",
        "plt.tight_layout()"
      ],
      "execution_count": null,
      "outputs": [
        {
          "output_type": "display_data",
          "data": {
            "image/png": "[encoded data removed]",
            "text/plain": [
              "<Figure size 720x504 with 1 Axes>"
            ]
          },
          "metadata": {
            "needs_background": "light"
          }
        }
      ]
    },
    {
      "cell_type": "markdown",
      "metadata": {
        "id": "KjLBjdUD4jbH"
      },
      "source": [
        "### Вывод: поскольку R2 на тестовом наборе сильно меньше R2 на обучающем наборе, то модель сильно переобучилась на обучающем наборе.\n",
        "### На тестовом картина довольно хорошая - Test R^2 0.8922527442109116,\n",
        "### однако это условие будет не соблюдаться, где то будет 0.88, а где-то 0.6"
      ]
    },
    {
      "cell_type": "markdown",
      "source": [
        "**4. Сравнить показатели качества новой модели с моделью с урока и сделать вывод**"
      ],
      "metadata": {
        "id": "wlZOs563_fwp"
      }
    },
    {
      "cell_type": "markdown",
      "source": [
        "#Вывод: в нашем примере модель сильно переобучилась, по сравнению с моделью с урока, которая не переобучилась и не дообучилась.(оптимальный случай, для средней ошибки нет, а для среднеквадратической ошибки ближе к 0.7 модель приемлема)"
      ],
      "metadata": {
        "id": "q4vs0Pk1Dqxm"
      }
    },
    {
      "cell_type": "markdown",
      "source": [
        "**5. Дальнейший разбор**"
      ],
      "metadata": {
        "id": "7q_pnNs9EZZ6"
      }
    },
    {
      "cell_type": "markdown",
      "source": [
        " В методе случайного леса, деревья вниз могут расти многоветково, нужно ограничить их рост"
      ],
      "metadata": {
        "id": "jLD0ZxqS_qcA"
      }
    },
    {
      "cell_type": "code",
      "metadata": {
        "id": "sDcd1kph-Naw"
      },
      "source": [
        "# можно и sklearn пользоваться, но мы создаем функцию и \n",
        "# пробуем настроить гиперпараметры\n",
        "\n",
        "def fit_predict(train, test, y_train, y_test, criterion = 'mse', n_estimators = 100, max_depth = None, min_samples_split = 2):  # критерий 'mse' среднеквадратическая ошибка \n",
        "  rf = RandomForestRegressor(criterion = criterion, n_estimators = n_estimators, max_depth = max_depth)\n",
        "  rf.fit(train, y_train)\n",
        "  y_pred_train = rf.predict(train)\n",
        "  y_pred = rf.predict(test)\n",
        "  print('train', r2(y_train, y_pred_train), 'test', r2(y_test, y_pred))\n",
        "  \n",
        "  # и фиксируем показатели.."
      ],
      "execution_count": null,
      "outputs": []
    },
    {
      "cell_type": "code",
      "metadata": {
        "colab": {
          "base_uri": "https://localhost:8080/"
        },
        "id": "o9-7q8FAmINk",
        "outputId": "65ac2421-add9-4202-c28f-75b4979eaa6c"
      },
      "source": [
        "# пытаемся изменить максимальную глубину деревьев\n",
        "\n",
        "for max_depth in range(2,21):          # range(2,21): глубина деревьев....\n",
        "  print('R^2 score using max_depth = {0}:'.format(max_depth), end = ' ')\n",
        "  fit_predict(X_train, X_test, y_train, y_test, max_depth = max_depth)\n",
        "\n",
        "  # train 0.8693337271216253 test 0.8174842140681421 самый оптимальный вариант\n",
        "  # R^2 score using max_depth = 3: максимальная глубина должна быть ближе к трем"
      ],
      "execution_count": null,
      "outputs": [
        {
          "output_type": "stream",
          "name": "stdout",
          "text": [
            "R^2 score using max_depth = 2: train 0.7602123804236137 test 0.7065677453033665\n",
            "R^2 score using max_depth = 3: "
          ]
        },
        {
          "output_type": "stream",
          "name": "stderr",
          "text": [
            "/usr/local/lib/python3.7/dist-packages/sklearn/ensemble/_forest.py:392: FutureWarning: Criterion 'mse' was deprecated in v1.0 and will be removed in version 1.2. Use `criterion='squared_error'` which is equivalent.\n",
            "  FutureWarning,\n",
            "/usr/local/lib/python3.7/dist-packages/sklearn/ensemble/_forest.py:392: FutureWarning: Criterion 'mse' was deprecated in v1.0 and will be removed in version 1.2. Use `criterion='squared_error'` which is equivalent.\n",
            "  FutureWarning,\n"
          ]
        },
        {
          "output_type": "stream",
          "name": "stdout",
          "text": [
            "train 0.8715417587029507 test 0.8334718923725501\n",
            "R^2 score using max_depth = 4: "
          ]
        },
        {
          "output_type": "stream",
          "name": "stderr",
          "text": [
            "/usr/local/lib/python3.7/dist-packages/sklearn/ensemble/_forest.py:392: FutureWarning: Criterion 'mse' was deprecated in v1.0 and will be removed in version 1.2. Use `criterion='squared_error'` which is equivalent.\n",
            "  FutureWarning,\n"
          ]
        },
        {
          "output_type": "stream",
          "name": "stdout",
          "text": [
            "train 0.9138155064537873 test 0.8648945707600387\n",
            "R^2 score using max_depth = 5: "
          ]
        },
        {
          "output_type": "stream",
          "name": "stderr",
          "text": [
            "/usr/local/lib/python3.7/dist-packages/sklearn/ensemble/_forest.py:392: FutureWarning: Criterion 'mse' was deprecated in v1.0 and will be removed in version 1.2. Use `criterion='squared_error'` which is equivalent.\n",
            "  FutureWarning,\n"
          ]
        },
        {
          "output_type": "stream",
          "name": "stdout",
          "text": [
            "train 0.9331446384045268 test 0.8637017502736521\n",
            "R^2 score using max_depth = 6: "
          ]
        },
        {
          "output_type": "stream",
          "name": "stderr",
          "text": [
            "/usr/local/lib/python3.7/dist-packages/sklearn/ensemble/_forest.py:392: FutureWarning: Criterion 'mse' was deprecated in v1.0 and will be removed in version 1.2. Use `criterion='squared_error'` which is equivalent.\n",
            "  FutureWarning,\n"
          ]
        },
        {
          "output_type": "stream",
          "name": "stdout",
          "text": [
            "train 0.9517264723538112 test 0.8983518981078888\n",
            "R^2 score using max_depth = 7: "
          ]
        },
        {
          "output_type": "stream",
          "name": "stderr",
          "text": [
            "/usr/local/lib/python3.7/dist-packages/sklearn/ensemble/_forest.py:392: FutureWarning: Criterion 'mse' was deprecated in v1.0 and will be removed in version 1.2. Use `criterion='squared_error'` which is equivalent.\n",
            "  FutureWarning,\n"
          ]
        },
        {
          "output_type": "stream",
          "name": "stdout",
          "text": [
            "train 0.9599659017844028 test 0.8806837697578055\n",
            "R^2 score using max_depth = 8: "
          ]
        },
        {
          "output_type": "stream",
          "name": "stderr",
          "text": [
            "/usr/local/lib/python3.7/dist-packages/sklearn/ensemble/_forest.py:392: FutureWarning: Criterion 'mse' was deprecated in v1.0 and will be removed in version 1.2. Use `criterion='squared_error'` which is equivalent.\n",
            "  FutureWarning,\n"
          ]
        },
        {
          "output_type": "stream",
          "name": "stdout",
          "text": [
            "train 0.9684213629096068 test 0.8754234469549478\n",
            "R^2 score using max_depth = 9: "
          ]
        },
        {
          "output_type": "stream",
          "name": "stderr",
          "text": [
            "/usr/local/lib/python3.7/dist-packages/sklearn/ensemble/_forest.py:392: FutureWarning: Criterion 'mse' was deprecated in v1.0 and will be removed in version 1.2. Use `criterion='squared_error'` which is equivalent.\n",
            "  FutureWarning,\n"
          ]
        },
        {
          "output_type": "stream",
          "name": "stdout",
          "text": [
            "train 0.9700800517960564 test 0.8744214177056787\n",
            "R^2 score using max_depth = 10: "
          ]
        },
        {
          "output_type": "stream",
          "name": "stderr",
          "text": [
            "/usr/local/lib/python3.7/dist-packages/sklearn/ensemble/_forest.py:392: FutureWarning: Criterion 'mse' was deprecated in v1.0 and will be removed in version 1.2. Use `criterion='squared_error'` which is equivalent.\n",
            "  FutureWarning,\n"
          ]
        },
        {
          "output_type": "stream",
          "name": "stdout",
          "text": [
            "train 0.9757150676531849 test 0.8786329621054716\n",
            "R^2 score using max_depth = 11: "
          ]
        },
        {
          "output_type": "stream",
          "name": "stderr",
          "text": [
            "/usr/local/lib/python3.7/dist-packages/sklearn/ensemble/_forest.py:392: FutureWarning: Criterion 'mse' was deprecated in v1.0 and will be removed in version 1.2. Use `criterion='squared_error'` which is equivalent.\n",
            "  FutureWarning,\n"
          ]
        },
        {
          "output_type": "stream",
          "name": "stdout",
          "text": [
            "train 0.9752279819711392 test 0.8817543107738997\n",
            "R^2 score using max_depth = 12: "
          ]
        },
        {
          "output_type": "stream",
          "name": "stderr",
          "text": [
            "/usr/local/lib/python3.7/dist-packages/sklearn/ensemble/_forest.py:392: FutureWarning: Criterion 'mse' was deprecated in v1.0 and will be removed in version 1.2. Use `criterion='squared_error'` which is equivalent.\n",
            "  FutureWarning,\n"
          ]
        },
        {
          "output_type": "stream",
          "name": "stdout",
          "text": [
            "train 0.9773775053943812 test 0.883523286894782\n",
            "R^2 score using max_depth = 13: "
          ]
        },
        {
          "output_type": "stream",
          "name": "stderr",
          "text": [
            "/usr/local/lib/python3.7/dist-packages/sklearn/ensemble/_forest.py:392: FutureWarning: Criterion 'mse' was deprecated in v1.0 and will be removed in version 1.2. Use `criterion='squared_error'` which is equivalent.\n",
            "  FutureWarning,\n"
          ]
        },
        {
          "output_type": "stream",
          "name": "stdout",
          "text": [
            "train 0.9792390099404152 test 0.8908553385568425\n",
            "R^2 score using max_depth = 14: "
          ]
        },
        {
          "output_type": "stream",
          "name": "stderr",
          "text": [
            "/usr/local/lib/python3.7/dist-packages/sklearn/ensemble/_forest.py:392: FutureWarning: Criterion 'mse' was deprecated in v1.0 and will be removed in version 1.2. Use `criterion='squared_error'` which is equivalent.\n",
            "  FutureWarning,\n"
          ]
        },
        {
          "output_type": "stream",
          "name": "stdout",
          "text": [
            "train 0.974275516752568 test 0.8675886318994656\n",
            "R^2 score using max_depth = 15: "
          ]
        },
        {
          "output_type": "stream",
          "name": "stderr",
          "text": [
            "/usr/local/lib/python3.7/dist-packages/sklearn/ensemble/_forest.py:392: FutureWarning: Criterion 'mse' was deprecated in v1.0 and will be removed in version 1.2. Use `criterion='squared_error'` which is equivalent.\n",
            "  FutureWarning,\n"
          ]
        },
        {
          "output_type": "stream",
          "name": "stdout",
          "text": [
            "train 0.9763358433412322 test 0.8749284408882914\n",
            "R^2 score using max_depth = 16: "
          ]
        },
        {
          "output_type": "stream",
          "name": "stderr",
          "text": [
            "/usr/local/lib/python3.7/dist-packages/sklearn/ensemble/_forest.py:392: FutureWarning: Criterion 'mse' was deprecated in v1.0 and will be removed in version 1.2. Use `criterion='squared_error'` which is equivalent.\n",
            "  FutureWarning,\n"
          ]
        },
        {
          "output_type": "stream",
          "name": "stdout",
          "text": [
            "train 0.977384603472163 test 0.8780154441216382\n",
            "R^2 score using max_depth = 17: "
          ]
        },
        {
          "output_type": "stream",
          "name": "stderr",
          "text": [
            "/usr/local/lib/python3.7/dist-packages/sklearn/ensemble/_forest.py:392: FutureWarning: Criterion 'mse' was deprecated in v1.0 and will be removed in version 1.2. Use `criterion='squared_error'` which is equivalent.\n",
            "  FutureWarning,\n"
          ]
        },
        {
          "output_type": "stream",
          "name": "stdout",
          "text": [
            "train 0.9791121566849944 test 0.8918266563937035\n",
            "R^2 score using max_depth = 18: "
          ]
        },
        {
          "output_type": "stream",
          "name": "stderr",
          "text": [
            "/usr/local/lib/python3.7/dist-packages/sklearn/ensemble/_forest.py:392: FutureWarning: Criterion 'mse' was deprecated in v1.0 and will be removed in version 1.2. Use `criterion='squared_error'` which is equivalent.\n",
            "  FutureWarning,\n"
          ]
        },
        {
          "output_type": "stream",
          "name": "stdout",
          "text": [
            "train 0.978039488349134 test 0.8707713399348656\n",
            "R^2 score using max_depth = 19: "
          ]
        },
        {
          "output_type": "stream",
          "name": "stderr",
          "text": [
            "/usr/local/lib/python3.7/dist-packages/sklearn/ensemble/_forest.py:392: FutureWarning: Criterion 'mse' was deprecated in v1.0 and will be removed in version 1.2. Use `criterion='squared_error'` which is equivalent.\n",
            "  FutureWarning,\n"
          ]
        },
        {
          "output_type": "stream",
          "name": "stdout",
          "text": [
            "train 0.9765364941826968 test 0.8847524035319584\n",
            "R^2 score using max_depth = 20: "
          ]
        },
        {
          "output_type": "stream",
          "name": "stderr",
          "text": [
            "/usr/local/lib/python3.7/dist-packages/sklearn/ensemble/_forest.py:392: FutureWarning: Criterion 'mse' was deprecated in v1.0 and will be removed in version 1.2. Use `criterion='squared_error'` which is equivalent.\n",
            "  FutureWarning,\n"
          ]
        },
        {
          "output_type": "stream",
          "name": "stdout",
          "text": [
            "train 0.9769415026728603 test 0.8716340947451249\n"
          ]
        }
      ]
    },
    {
      "cell_type": "code",
      "metadata": {
        "colab": {
          "base_uri": "https://localhost:8080/"
        },
        "id": "5UfMMEvAluvm",
        "outputId": "fed9ad70-10f5-4269-a2fd-9a2a5fe0ba0d"
      },
      "source": [
        "# минимальное число объектов, необходимое для того, чтобы узел дерева мог бы расщепиться.\n",
        "for min_samples_split in range(5,51,5):\n",
        "  print('R^2 score using min_samples_leaf = {0}:'.format(min_samples_split), end = ' ')\n",
        "  fit_predict(X_train, X_test, y_train, y_test, max_depth=3, min_samples_split = min_samples_split)    # оптимальную глубины зафиксироавали - max_depth=3 - номер три 3"
      ],
      "execution_count": null,
      "outputs": [
        {
          "output_type": "stream",
          "name": "stdout",
          "text": [
            "R^2 score using min_samples_leaf = 5: "
          ]
        },
        {
          "output_type": "stream",
          "name": "stderr",
          "text": [
            "/usr/local/lib/python3.7/dist-packages/sklearn/ensemble/_forest.py:392: FutureWarning: Criterion 'mse' was deprecated in v1.0 and will be removed in version 1.2. Use `criterion='squared_error'` which is equivalent.\n",
            "  FutureWarning,\n"
          ]
        },
        {
          "output_type": "stream",
          "name": "stdout",
          "text": [
            "train 0.8673871083447648 test 0.8241769856189819\n",
            "R^2 score using min_samples_leaf = 10: "
          ]
        },
        {
          "output_type": "stream",
          "name": "stderr",
          "text": [
            "/usr/local/lib/python3.7/dist-packages/sklearn/ensemble/_forest.py:392: FutureWarning: Criterion 'mse' was deprecated in v1.0 and will be removed in version 1.2. Use `criterion='squared_error'` which is equivalent.\n",
            "  FutureWarning,\n",
            "/usr/local/lib/python3.7/dist-packages/sklearn/ensemble/_forest.py:392: FutureWarning: Criterion 'mse' was deprecated in v1.0 and will be removed in version 1.2. Use `criterion='squared_error'` which is equivalent.\n",
            "  FutureWarning,\n"
          ]
        },
        {
          "output_type": "stream",
          "name": "stdout",
          "text": [
            "train 0.8693211210216436 test 0.833238681041662\n",
            "R^2 score using min_samples_leaf = 15: train 0.8716967123647056 test 0.8199752159104211\n",
            "R^2 score using min_samples_leaf = 20: "
          ]
        },
        {
          "output_type": "stream",
          "name": "stderr",
          "text": [
            "/usr/local/lib/python3.7/dist-packages/sklearn/ensemble/_forest.py:392: FutureWarning: Criterion 'mse' was deprecated in v1.0 and will be removed in version 1.2. Use `criterion='squared_error'` which is equivalent.\n",
            "  FutureWarning,\n"
          ]
        },
        {
          "output_type": "stream",
          "name": "stdout",
          "text": [
            "train 0.8687520339757477 test 0.8194095299335904\n",
            "R^2 score using min_samples_leaf = 25: "
          ]
        },
        {
          "output_type": "stream",
          "name": "stderr",
          "text": [
            "/usr/local/lib/python3.7/dist-packages/sklearn/ensemble/_forest.py:392: FutureWarning: Criterion 'mse' was deprecated in v1.0 and will be removed in version 1.2. Use `criterion='squared_error'` which is equivalent.\n",
            "  FutureWarning,\n",
            "/usr/local/lib/python3.7/dist-packages/sklearn/ensemble/_forest.py:392: FutureWarning: Criterion 'mse' was deprecated in v1.0 and will be removed in version 1.2. Use `criterion='squared_error'` which is equivalent.\n",
            "  FutureWarning,\n"
          ]
        },
        {
          "output_type": "stream",
          "name": "stdout",
          "text": [
            "train 0.8686725264701698 test 0.8224521856738424\n",
            "R^2 score using min_samples_leaf = 30: train 0.8664485478709673 test 0.8196039573588444\n",
            "R^2 score using min_samples_leaf = 35: "
          ]
        },
        {
          "output_type": "stream",
          "name": "stderr",
          "text": [
            "/usr/local/lib/python3.7/dist-packages/sklearn/ensemble/_forest.py:392: FutureWarning: Criterion 'mse' was deprecated in v1.0 and will be removed in version 1.2. Use `criterion='squared_error'` which is equivalent.\n",
            "  FutureWarning,\n"
          ]
        },
        {
          "output_type": "stream",
          "name": "stdout",
          "text": [
            "train 0.8716018146336346 test 0.8226662289541868\n",
            "R^2 score using min_samples_leaf = 40: "
          ]
        },
        {
          "output_type": "stream",
          "name": "stderr",
          "text": [
            "/usr/local/lib/python3.7/dist-packages/sklearn/ensemble/_forest.py:392: FutureWarning: Criterion 'mse' was deprecated in v1.0 and will be removed in version 1.2. Use `criterion='squared_error'` which is equivalent.\n",
            "  FutureWarning,\n",
            "/usr/local/lib/python3.7/dist-packages/sklearn/ensemble/_forest.py:392: FutureWarning: Criterion 'mse' was deprecated in v1.0 and will be removed in version 1.2. Use `criterion='squared_error'` which is equivalent.\n",
            "  FutureWarning,\n"
          ]
        },
        {
          "output_type": "stream",
          "name": "stdout",
          "text": [
            "train 0.8662483030569534 test 0.8109435162778931\n",
            "R^2 score using min_samples_leaf = 45: train 0.8712950034499525 test 0.8243805027616201\n",
            "R^2 score using min_samples_leaf = 50: "
          ]
        },
        {
          "output_type": "stream",
          "name": "stderr",
          "text": [
            "/usr/local/lib/python3.7/dist-packages/sklearn/ensemble/_forest.py:392: FutureWarning: Criterion 'mse' was deprecated in v1.0 and will be removed in version 1.2. Use `criterion='squared_error'` which is equivalent.\n",
            "  FutureWarning,\n"
          ]
        },
        {
          "output_type": "stream",
          "name": "stdout",
          "text": [
            "train 0.8699505406750486 test 0.8218062570550011\n"
          ]
        }
      ]
    },
    {
      "cell_type": "code",
      "metadata": {
        "colab": {
          "base_uri": "https://localhost:8080/"
        },
        "id": "sFfWl1NreQ97",
        "outputId": "8f394ba8-09c5-4dff-a3c6-4fabc3223eaa"
      },
      "source": [
        "# пробуем еще, нужно для того, чтобы узел дерева мог расщепиться\n",
        "# train 0.9749604997691613 test 0.8802062670944227\n",
        "# R^2 score using max_depth = 15: \n",
        "\n",
        "for criterion in ['mse','mae']:\n",
        "  print('R^2 score using {0} criterion:'.format(criterion), end = ' ')\n",
        "  fit_predict(X_train, X_test, y_train, y_test, max_depth=3, min_samples_split = 15, criterion = criterion)           # оптимальную глубины зафиксироавали - max_depth=3 - номер 15"
      ],
      "execution_count": null,
      "outputs": [
        {
          "output_type": "stream",
          "name": "stdout",
          "text": [
            "R^2 score using mse criterion: train 0.8660143294110112 test 0.8208532926827399\n",
            "R^2 score using mae criterion: "
          ]
        },
        {
          "output_type": "stream",
          "name": "stderr",
          "text": [
            "/usr/local/lib/python3.7/dist-packages/sklearn/ensemble/_forest.py:392: FutureWarning: Criterion 'mse' was deprecated in v1.0 and will be removed in version 1.2. Use `criterion='squared_error'` which is equivalent.\n",
            "  FutureWarning,\n",
            "/usr/local/lib/python3.7/dist-packages/sklearn/ensemble/_forest.py:399: FutureWarning: Criterion 'mae' was deprecated in v1.0 and will be removed in version 1.2. Use `criterion='absolute_error'` which is equivalent.\n",
            "  FutureWarning,\n"
          ]
        },
        {
          "output_type": "stream",
          "name": "stdout",
          "text": [
            "train 0.8382357299257838 test 0.7971451059104073\n"
          ]
        }
      ]
    },
    {
      "cell_type": "code",
      "metadata": {
        "colab": {
          "base_uri": "https://localhost:8080/"
        },
        "id": "HNPGtg7ChFDc",
        "outputId": "1788cd33-8dd4-4108-a0a3-5da532936dde"
      },
      "source": [
        "# Замена числа «деревьев» в «случайном лесу».\n",
        "for n_estimators in range(100,1001,100):      # число «деревьев» в «случайном лесу» заменили на 100 (сто)\n",
        "  print('R^2 score using n_estimators = {0}:'.format(n_estimators), end = ' ')                      # фиксированные параметры - end = ' '\n",
        "  fit_predict(X_train, X_test, y_train, y_test, max_depth=3, min_samples_split = 15, criterion = 'mse', n_estimators = n_estimators)"
      ],
      "execution_count": null,
      "outputs": [
        {
          "output_type": "stream",
          "name": "stdout",
          "text": [
            "R^2 score using n_estimators = 100: train 0.8677520250089737 test 0.8124986939751083\n",
            "R^2 score using n_estimators = 200: "
          ]
        },
        {
          "output_type": "stream",
          "name": "stderr",
          "text": [
            "/usr/local/lib/python3.7/dist-packages/sklearn/ensemble/_forest.py:392: FutureWarning: Criterion 'mse' was deprecated in v1.0 and will be removed in version 1.2. Use `criterion='squared_error'` which is equivalent.\n",
            "  FutureWarning,\n",
            "/usr/local/lib/python3.7/dist-packages/sklearn/ensemble/_forest.py:392: FutureWarning: Criterion 'mse' was deprecated in v1.0 and will be removed in version 1.2. Use `criterion='squared_error'` which is equivalent.\n",
            "  FutureWarning,\n"
          ]
        },
        {
          "output_type": "stream",
          "name": "stdout",
          "text": [
            "train 0.8709482983883752 test 0.8247990148191344\n",
            "R^2 score using n_estimators = 300: "
          ]
        },
        {
          "output_type": "stream",
          "name": "stderr",
          "text": [
            "/usr/local/lib/python3.7/dist-packages/sklearn/ensemble/_forest.py:392: FutureWarning: Criterion 'mse' was deprecated in v1.0 and will be removed in version 1.2. Use `criterion='squared_error'` which is equivalent.\n",
            "  FutureWarning,\n"
          ]
        },
        {
          "output_type": "stream",
          "name": "stdout",
          "text": [
            "train 0.8664422356612924 test 0.8242316132599159\n",
            "R^2 score using n_estimators = 400: "
          ]
        },
        {
          "output_type": "stream",
          "name": "stderr",
          "text": [
            "/usr/local/lib/python3.7/dist-packages/sklearn/ensemble/_forest.py:392: FutureWarning: Criterion 'mse' was deprecated in v1.0 and will be removed in version 1.2. Use `criterion='squared_error'` which is equivalent.\n",
            "  FutureWarning,\n"
          ]
        },
        {
          "output_type": "stream",
          "name": "stdout",
          "text": [
            "train 0.8675980784077234 test 0.8188859712833452\n",
            "R^2 score using n_estimators = 500: "
          ]
        },
        {
          "output_type": "stream",
          "name": "stderr",
          "text": [
            "/usr/local/lib/python3.7/dist-packages/sklearn/ensemble/_forest.py:392: FutureWarning: Criterion 'mse' was deprecated in v1.0 and will be removed in version 1.2. Use `criterion='squared_error'` which is equivalent.\n",
            "  FutureWarning,\n"
          ]
        },
        {
          "output_type": "stream",
          "name": "stdout",
          "text": [
            "train 0.8694384990621623 test 0.8246780936811388\n",
            "R^2 score using n_estimators = 600: "
          ]
        },
        {
          "output_type": "stream",
          "name": "stderr",
          "text": [
            "/usr/local/lib/python3.7/dist-packages/sklearn/ensemble/_forest.py:392: FutureWarning: Criterion 'mse' was deprecated in v1.0 and will be removed in version 1.2. Use `criterion='squared_error'` which is equivalent.\n",
            "  FutureWarning,\n"
          ]
        },
        {
          "output_type": "stream",
          "name": "stdout",
          "text": [
            "train 0.8705163540186318 test 0.8263561624141107\n",
            "R^2 score using n_estimators = 700: "
          ]
        },
        {
          "output_type": "stream",
          "name": "stderr",
          "text": [
            "/usr/local/lib/python3.7/dist-packages/sklearn/ensemble/_forest.py:392: FutureWarning: Criterion 'mse' was deprecated in v1.0 and will be removed in version 1.2. Use `criterion='squared_error'` which is equivalent.\n",
            "  FutureWarning,\n"
          ]
        },
        {
          "output_type": "stream",
          "name": "stdout",
          "text": [
            "train 0.8700921050871427 test 0.8224273663671694\n",
            "R^2 score using n_estimators = 800: "
          ]
        },
        {
          "output_type": "stream",
          "name": "stderr",
          "text": [
            "/usr/local/lib/python3.7/dist-packages/sklearn/ensemble/_forest.py:392: FutureWarning: Criterion 'mse' was deprecated in v1.0 and will be removed in version 1.2. Use `criterion='squared_error'` which is equivalent.\n",
            "  FutureWarning,\n"
          ]
        },
        {
          "output_type": "stream",
          "name": "stdout",
          "text": [
            "train 0.8699215038394303 test 0.8274437024446355\n",
            "R^2 score using n_estimators = 900: "
          ]
        },
        {
          "output_type": "stream",
          "name": "stderr",
          "text": [
            "/usr/local/lib/python3.7/dist-packages/sklearn/ensemble/_forest.py:392: FutureWarning: Criterion 'mse' was deprecated in v1.0 and will be removed in version 1.2. Use `criterion='squared_error'` which is equivalent.\n",
            "  FutureWarning,\n"
          ]
        },
        {
          "output_type": "stream",
          "name": "stdout",
          "text": [
            "train 0.8698206889779656 test 0.8247779889091365\n",
            "R^2 score using n_estimators = 1000: "
          ]
        },
        {
          "output_type": "stream",
          "name": "stderr",
          "text": [
            "/usr/local/lib/python3.7/dist-packages/sklearn/ensemble/_forest.py:392: FutureWarning: Criterion 'mse' was deprecated in v1.0 and will be removed in version 1.2. Use `criterion='squared_error'` which is equivalent.\n",
            "  FutureWarning,\n"
          ]
        },
        {
          "output_type": "stream",
          "name": "stdout",
          "text": [
            "train 0.8699878913275398 test 0.8229064030362585\n"
          ]
        }
      ]
    },
    {
      "cell_type": "code",
      "metadata": {
        "colab": {
          "base_uri": "https://localhost:8080/"
        },
        "id": "eL_M15iNkR9z",
        "outputId": "cb26eb66-4e6c-492a-e583-762eceb5e00b"
      },
      "source": [
        "# рассматриваем другие гипперпараметры\n",
        "\n",
        "from sklearn.ensemble import RandomForestRegressor\n",
        "model2 = RandomForestRegressor(criterion = 'mse', n_estimators = 300, max_depth = 3, random_state = 5,  min_samples_split=15)\n",
        "\n",
        "model2.fit(X_train, y_train)"
      ],
      "execution_count": null,
      "outputs": [
        {
          "output_type": "stream",
          "name": "stderr",
          "text": [
            "/usr/local/lib/python3.7/dist-packages/sklearn/ensemble/_forest.py:392: FutureWarning: Criterion 'mse' was deprecated in v1.0 and will be removed in version 1.2. Use `criterion='squared_error'` which is equivalent.\n",
            "  FutureWarning,\n"
          ]
        },
        {
          "output_type": "execute_result",
          "data": {
            "text/plain": [
              "RandomForestRegressor(criterion='mse', max_depth=3, min_samples_split=15,\n",
              "                      n_estimators=300, random_state=5)"
            ]
          },
          "metadata": {},
          "execution_count": 17
        }
      ]
    },
    {
      "cell_type": "code",
      "metadata": {
        "id": "7YezsxMHnG3T"
      },
      "source": [
        "y_train_pred2 = model2.predict(X_train)\n",
        "y_test_pred2 = model2.predict(X_test)"
      ],
      "execution_count": null,
      "outputs": []
    },
    {
      "cell_type": "code",
      "metadata": {
        "colab": {
          "base_uri": "https://localhost:8080/"
        },
        "id": "SP8-fG5Zkps1",
        "outputId": "6676efd0-9046-4152-f2f7-91651f390f81"
      },
      "source": [
        "print('Train R^2 {}'.format(r2(y_train, y_train_pred2)))\n",
        "print('Test R^2 {}'.format(r2(y_test, y_test_pred2)))"
      ],
      "execution_count": null,
      "outputs": [
        {
          "output_type": "stream",
          "name": "stdout",
          "text": [
            "Train R^2 0.8685861956584837\n",
            "Test R^2 0.8248676153984816\n"
          ]
        }
      ]
    },
    {
      "cell_type": "markdown",
      "source": [
        "#Вывод: на выходе получается, при рассмотрении других гиперпараметров позволяет снизить ситуацию переобученя:\n",
        "# на обучении 0.87, а на тестовом 0.82 намнго ближе, чем в ранее расчитанной нашей модели (вышеописанный случай) \n",
        "# Метрика близко находятся друг от друга, что считается наилучшим результатом, модель себя предсказуемо ведет ка на обучении (трейне) и на тесте, модель будет работать стабильней.."
      ],
      "metadata": {
        "id": "umAhqEyaPo6p"
      }
    },
    {
      "cell_type": "markdown",
      "source": [
        "### Спасибо за внимание !"
      ],
      "metadata": {
        "id": "CtYsqbGlR83z"
      }
    }
  ]
}